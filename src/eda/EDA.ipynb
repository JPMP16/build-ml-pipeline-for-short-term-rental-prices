{
 "cells": [
  {
   "cell_type": "markdown",
   "id": "60a569d4",
   "metadata": {},
   "source": [
    "# Load dependencies and input dataset"
   ]
  },
  {
   "cell_type": "code",
   "execution_count": 1,
   "id": "f4f4481a",
   "metadata": {},
   "outputs": [
    {
     "name": "stderr",
     "output_type": "stream",
     "text": [
      "\u001b[34m\u001b[1mwandb\u001b[0m: Currently logged in as: \u001b[33mjpmp\u001b[0m. Use \u001b[1m`wandb login --relogin`\u001b[0m to force relogin\n"
     ]
    },
    {
     "data": {
      "text/html": [
       "wandb version 0.13.0 is available!  To upgrade, please run:\n",
       " $ pip install wandb --upgrade"
      ],
      "text/plain": [
       "<IPython.core.display.HTML object>"
      ]
     },
     "metadata": {},
     "output_type": "display_data"
    },
    {
     "data": {
      "text/html": [
       "Tracking run with wandb version 0.12.17"
      ],
      "text/plain": [
       "<IPython.core.display.HTML object>"
      ]
     },
     "metadata": {},
     "output_type": "display_data"
    },
    {
     "data": {
      "text/html": [
       "Run data is saved locally in <code>/Users/belapires/repos/build-ml-pipeline-for-short-term-rental-prices/src/eda/wandb/run-20220804_212153-29n5oow4</code>"
      ],
      "text/plain": [
       "<IPython.core.display.HTML object>"
      ]
     },
     "metadata": {},
     "output_type": "display_data"
    },
    {
     "data": {
      "text/html": [
       "Syncing run <strong><a href=\"https://wandb.ai/jpmp/nyc_airbnb/runs/29n5oow4\" target=\"_blank\">worthy-rain-65</a></strong> to <a href=\"https://wandb.ai/jpmp/nyc_airbnb\" target=\"_blank\">Weights & Biases</a> (<a href=\"https://wandb.me/run\" target=\"_blank\">docs</a>)<br/>"
      ],
      "text/plain": [
       "<IPython.core.display.HTML object>"
      ]
     },
     "metadata": {},
     "output_type": "display_data"
    }
   ],
   "source": [
    "# Load libraries\n",
    "import wandb\n",
    "import pandas as pd\n",
    "\n",
    "# Load and read input artifact\n",
    "run = wandb.init(project=\"nyc_airbnb\", group=\"eda\", save_code=True)\n",
    "local_path = wandb.use_artifact(\"sample.csv:latest\").file()\n",
    "df = pd.read_csv(local_path)"
   ]
  },
  {
   "cell_type": "markdown",
   "id": "a8f0e03a",
   "metadata": {},
   "source": [
    "# pandas_profiling report"
   ]
  },
  {
   "cell_type": "markdown",
   "id": "a5b9f5eb",
   "metadata": {},
   "source": [
    "### consierable missing values detected in last_review and reviews_per_month columns\n",
    "### outliers detected in price column\n",
    "### last_review is in string format"
   ]
  },
  {
   "cell_type": "code",
   "execution_count": 2,
   "id": "f2681272",
   "metadata": {},
   "outputs": [
    {
     "data": {
      "application/vnd.jupyter.widget-view+json": {
       "model_id": "88cd98d345ca4e2bbeff1c29d82bc9fb",
       "version_major": 2,
       "version_minor": 0
      },
      "text/plain": [
       "Summarize dataset:   0%|          | 0/29 [00:00<?, ?it/s]"
      ]
     },
     "metadata": {},
     "output_type": "display_data"
    },
    {
     "data": {
      "application/vnd.jupyter.widget-view+json": {
       "model_id": "ad4c0d2548b44637ad87d141f2fdfeec",
       "version_major": 2,
       "version_minor": 0
      },
      "text/plain": [
       "Generate report structure:   0%|          | 0/1 [00:00<?, ?it/s]"
      ]
     },
     "metadata": {},
     "output_type": "display_data"
    },
    {
     "data": {
      "application/vnd.jupyter.widget-view+json": {
       "model_id": "",
       "version_major": 2,
       "version_minor": 0
      },
      "text/plain": [
       "Render widgets:   0%|          | 0/1 [00:00<?, ?it/s]"
      ]
     },
     "metadata": {},
     "output_type": "display_data"
    },
    {
     "data": {
      "application/vnd.jupyter.widget-view+json": {
       "model_id": "e0686f1d673f4d429c69f54b1c770a2f",
       "version_major": 2,
       "version_minor": 0
      },
      "text/plain": [
       "VBox(children=(Tab(children=(Tab(children=(GridBox(children=(VBox(children=(GridspecLayout(children=(HTML(valu…"
      ]
     },
     "metadata": {},
     "output_type": "display_data"
    }
   ],
   "source": [
    "import pandas_profiling\n",
    "\n",
    "profile = pandas_profiling.ProfileReport(df)\n",
    "profile.to_widgets()"
   ]
  },
  {
   "cell_type": "markdown",
   "id": "3c082c8d",
   "metadata": {},
   "source": [
    "# Clean dataset"
   ]
  },
  {
   "cell_type": "markdown",
   "id": "790de553",
   "metadata": {},
   "source": [
    "## Drop price outliers and convert last_review to datetime"
   ]
  },
  {
   "cell_type": "code",
   "execution_count": 3,
   "id": "f0a41019",
   "metadata": {},
   "outputs": [],
   "source": [
    "# Drop outliers\n",
    "min_price = 10\n",
    "max_price = 350\n",
    "idx = df['price'].between(min_price, max_price)\n",
    "df = df[idx].copy()\n",
    "# Convert last_review to datetime\n",
    "df['last_review'] = pd.to_datetime(df['last_review'])"
   ]
  },
  {
   "cell_type": "markdown",
   "id": "69483107",
   "metadata": {},
   "source": [
    "# Validate dataset has been cleaned"
   ]
  },
  {
   "cell_type": "markdown",
   "id": "f9396037",
   "metadata": {},
   "source": [
    "## last_review is now a datetime"
   ]
  },
  {
   "cell_type": "code",
   "execution_count": 4,
   "id": "bc82c95c",
   "metadata": {
    "scrolled": false
   },
   "outputs": [
    {
     "name": "stdout",
     "output_type": "stream",
     "text": [
      "<class 'pandas.core.frame.DataFrame'>\n",
      "Int64Index: 46428 entries, 0 to 48894\n",
      "Data columns (total 16 columns):\n",
      " #   Column                          Non-Null Count  Dtype         \n",
      "---  ------                          --------------  -----         \n",
      " 0   id                              46428 non-null  int64         \n",
      " 1   name                            46413 non-null  object        \n",
      " 2   host_id                         46428 non-null  int64         \n",
      " 3   host_name                       46407 non-null  object        \n",
      " 4   neighbourhood_group             46428 non-null  object        \n",
      " 5   neighbourhood                   46428 non-null  object        \n",
      " 6   latitude                        46428 non-null  float64       \n",
      " 7   longitude                       46428 non-null  float64       \n",
      " 8   room_type                       46428 non-null  object        \n",
      " 9   price                           46428 non-null  int64         \n",
      " 10  minimum_nights                  46428 non-null  int64         \n",
      " 11  number_of_reviews               46428 non-null  int64         \n",
      " 12  last_review                     37246 non-null  datetime64[ns]\n",
      " 13  reviews_per_month               37246 non-null  float64       \n",
      " 14  calculated_host_listings_count  46428 non-null  int64         \n",
      " 15  availability_365                46428 non-null  int64         \n",
      "dtypes: datetime64[ns](1), float64(3), int64(7), object(5)\n",
      "memory usage: 6.0+ MB\n"
     ]
    }
   ],
   "source": [
    "df.info()"
   ]
  },
  {
   "cell_type": "markdown",
   "id": "f70bf0c0",
   "metadata": {},
   "source": [
    "## Price values are now within sensible range"
   ]
  },
  {
   "cell_type": "code",
   "execution_count": 6,
   "id": "cf4c0af3",
   "metadata": {
    "scrolled": true
   },
   "outputs": [
    {
     "data": {
      "text/html": [
       "<div>\n",
       "<style scoped>\n",
       "    .dataframe tbody tr th:only-of-type {\n",
       "        vertical-align: middle;\n",
       "    }\n",
       "\n",
       "    .dataframe tbody tr th {\n",
       "        vertical-align: top;\n",
       "    }\n",
       "\n",
       "    .dataframe thead th {\n",
       "        text-align: right;\n",
       "    }\n",
       "</style>\n",
       "<table border=\"1\" class=\"dataframe\">\n",
       "  <thead>\n",
       "    <tr style=\"text-align: right;\">\n",
       "      <th></th>\n",
       "      <th>id</th>\n",
       "      <th>host_id</th>\n",
       "      <th>latitude</th>\n",
       "      <th>longitude</th>\n",
       "      <th>price</th>\n",
       "      <th>minimum_nights</th>\n",
       "      <th>number_of_reviews</th>\n",
       "      <th>reviews_per_month</th>\n",
       "      <th>calculated_host_listings_count</th>\n",
       "      <th>availability_365</th>\n",
       "    </tr>\n",
       "  </thead>\n",
       "  <tbody>\n",
       "    <tr>\n",
       "      <th>count</th>\n",
       "      <td>4.642800e+04</td>\n",
       "      <td>4.642800e+04</td>\n",
       "      <td>46428.000000</td>\n",
       "      <td>46428.000000</td>\n",
       "      <td>46428.000000</td>\n",
       "      <td>46428.000000</td>\n",
       "      <td>46428.000000</td>\n",
       "      <td>37246.000000</td>\n",
       "      <td>46428.000000</td>\n",
       "      <td>46428.000000</td>\n",
       "    </tr>\n",
       "    <tr>\n",
       "      <th>mean</th>\n",
       "      <td>1.891808e+07</td>\n",
       "      <td>6.645101e+07</td>\n",
       "      <td>40.728572</td>\n",
       "      <td>-73.950968</td>\n",
       "      <td>122.538016</td>\n",
       "      <td>6.943181</td>\n",
       "      <td>23.827712</td>\n",
       "      <td>1.377473</td>\n",
       "      <td>6.672504</td>\n",
       "      <td>109.676854</td>\n",
       "    </tr>\n",
       "    <tr>\n",
       "      <th>std</th>\n",
       "      <td>1.093120e+07</td>\n",
       "      <td>7.769127e+07</td>\n",
       "      <td>0.055190</td>\n",
       "      <td>0.046386</td>\n",
       "      <td>71.862581</td>\n",
       "      <td>19.877510</td>\n",
       "      <td>45.190521</td>\n",
       "      <td>1.690493</td>\n",
       "      <td>31.083436</td>\n",
       "      <td>130.413952</td>\n",
       "    </tr>\n",
       "    <tr>\n",
       "      <th>min</th>\n",
       "      <td>2.539000e+03</td>\n",
       "      <td>2.438000e+03</td>\n",
       "      <td>40.499790</td>\n",
       "      <td>-74.244420</td>\n",
       "      <td>10.000000</td>\n",
       "      <td>1.000000</td>\n",
       "      <td>0.000000</td>\n",
       "      <td>0.010000</td>\n",
       "      <td>1.000000</td>\n",
       "      <td>0.000000</td>\n",
       "    </tr>\n",
       "    <tr>\n",
       "      <th>25%</th>\n",
       "      <td>9.445461e+06</td>\n",
       "      <td>7.719136e+06</td>\n",
       "      <td>40.689360</td>\n",
       "      <td>-73.982100</td>\n",
       "      <td>65.000000</td>\n",
       "      <td>1.000000</td>\n",
       "      <td>1.000000</td>\n",
       "      <td>0.190000</td>\n",
       "      <td>1.000000</td>\n",
       "      <td>0.000000</td>\n",
       "    </tr>\n",
       "    <tr>\n",
       "      <th>50%</th>\n",
       "      <td>1.954462e+07</td>\n",
       "      <td>3.032152e+07</td>\n",
       "      <td>40.722010</td>\n",
       "      <td>-73.954570</td>\n",
       "      <td>100.000000</td>\n",
       "      <td>2.000000</td>\n",
       "      <td>5.000000</td>\n",
       "      <td>0.715000</td>\n",
       "      <td>1.000000</td>\n",
       "      <td>40.000000</td>\n",
       "    </tr>\n",
       "    <tr>\n",
       "      <th>75%</th>\n",
       "      <td>2.893777e+07</td>\n",
       "      <td>1.056405e+08</td>\n",
       "      <td>40.763330</td>\n",
       "      <td>-73.934628</td>\n",
       "      <td>160.000000</td>\n",
       "      <td>5.000000</td>\n",
       "      <td>24.000000</td>\n",
       "      <td>2.020000</td>\n",
       "      <td>2.000000</td>\n",
       "      <td>217.000000</td>\n",
       "    </tr>\n",
       "    <tr>\n",
       "      <th>max</th>\n",
       "      <td>3.648724e+07</td>\n",
       "      <td>2.743213e+08</td>\n",
       "      <td>40.913060</td>\n",
       "      <td>-73.712990</td>\n",
       "      <td>350.000000</td>\n",
       "      <td>1250.000000</td>\n",
       "      <td>629.000000</td>\n",
       "      <td>58.500000</td>\n",
       "      <td>327.000000</td>\n",
       "      <td>365.000000</td>\n",
       "    </tr>\n",
       "  </tbody>\n",
       "</table>\n",
       "</div>"
      ],
      "text/plain": [
       "                 id       host_id      latitude     longitude         price  \\\n",
       "count  4.642800e+04  4.642800e+04  46428.000000  46428.000000  46428.000000   \n",
       "mean   1.891808e+07  6.645101e+07     40.728572    -73.950968    122.538016   \n",
       "std    1.093120e+07  7.769127e+07      0.055190      0.046386     71.862581   \n",
       "min    2.539000e+03  2.438000e+03     40.499790    -74.244420     10.000000   \n",
       "25%    9.445461e+06  7.719136e+06     40.689360    -73.982100     65.000000   \n",
       "50%    1.954462e+07  3.032152e+07     40.722010    -73.954570    100.000000   \n",
       "75%    2.893777e+07  1.056405e+08     40.763330    -73.934628    160.000000   \n",
       "max    3.648724e+07  2.743213e+08     40.913060    -73.712990    350.000000   \n",
       "\n",
       "       minimum_nights  number_of_reviews  reviews_per_month  \\\n",
       "count    46428.000000       46428.000000       37246.000000   \n",
       "mean         6.943181          23.827712           1.377473   \n",
       "std         19.877510          45.190521           1.690493   \n",
       "min          1.000000           0.000000           0.010000   \n",
       "25%          1.000000           1.000000           0.190000   \n",
       "50%          2.000000           5.000000           0.715000   \n",
       "75%          5.000000          24.000000           2.020000   \n",
       "max       1250.000000         629.000000          58.500000   \n",
       "\n",
       "       calculated_host_listings_count  availability_365  \n",
       "count                    46428.000000      46428.000000  \n",
       "mean                         6.672504        109.676854  \n",
       "std                         31.083436        130.413952  \n",
       "min                          1.000000          0.000000  \n",
       "25%                          1.000000          0.000000  \n",
       "50%                          1.000000         40.000000  \n",
       "75%                          2.000000        217.000000  \n",
       "max                        327.000000        365.000000  "
      ]
     },
     "execution_count": 6,
     "metadata": {},
     "output_type": "execute_result"
    }
   ],
   "source": [
    "df.describe()"
   ]
  },
  {
   "cell_type": "markdown",
   "id": "2bed97d5",
   "metadata": {},
   "source": [
    "# Finish the run"
   ]
  },
  {
   "cell_type": "code",
   "execution_count": 7,
   "id": "da32df52",
   "metadata": {
    "scrolled": true
   },
   "outputs": [
    {
     "data": {
      "text/html": [
       "Waiting for W&B process to finish... <strong style=\"color:green\">(success).</strong>"
      ],
      "text/plain": [
       "<IPython.core.display.HTML object>"
      ]
     },
     "metadata": {},
     "output_type": "display_data"
    },
    {
     "data": {
      "application/vnd.jupyter.widget-view+json": {
       "model_id": "",
       "version_major": 2,
       "version_minor": 0
      },
      "text/plain": [
       "VBox(children=(Label(value='0.068 MB of 0.068 MB uploaded (0.000 MB deduped)\\r'), FloatProgress(value=1.0, max…"
      ]
     },
     "metadata": {},
     "output_type": "display_data"
    },
    {
     "data": {
      "text/html": [
       "Synced <strong style=\"color:#cdcd00\">worthy-rain-65</strong>: <a href=\"https://wandb.ai/jpmp/nyc_airbnb/runs/29n5oow4\" target=\"_blank\">https://wandb.ai/jpmp/nyc_airbnb/runs/29n5oow4</a><br/>Synced 6 W&B file(s), 0 media file(s), 5 artifact file(s) and 1 other file(s)"
      ],
      "text/plain": [
       "<IPython.core.display.HTML object>"
      ]
     },
     "metadata": {},
     "output_type": "display_data"
    },
    {
     "data": {
      "text/html": [
       "Find logs at: <code>./wandb/run-20220804_212153-29n5oow4/logs</code>"
      ],
      "text/plain": [
       "<IPython.core.display.HTML object>"
      ]
     },
     "metadata": {},
     "output_type": "display_data"
    }
   ],
   "source": [
    "run.finish()"
   ]
  },
  {
   "cell_type": "code",
   "execution_count": null,
   "id": "0a648d6f",
   "metadata": {},
   "outputs": [],
   "source": []
  }
 ],
 "metadata": {
  "kernelspec": {
   "display_name": "Python 3 (ipykernel)",
   "language": "python",
   "name": "python3"
  },
  "language_info": {
   "codemirror_mode": {
    "name": "ipython",
    "version": 3
   },
   "file_extension": ".py",
   "mimetype": "text/x-python",
   "name": "python",
   "nbconvert_exporter": "python",
   "pygments_lexer": "ipython3",
   "version": "3.7.1"
  }
 },
 "nbformat": 4,
 "nbformat_minor": 5
}
